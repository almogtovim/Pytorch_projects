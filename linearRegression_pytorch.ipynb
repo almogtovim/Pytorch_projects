{
  "nbformat": 4,
  "nbformat_minor": 0,
  "metadata": {
    "colab": {
      "name": "linearRegression_pytorch.ipynb",
      "provenance": [],
      "collapsed_sections": []
    },
    "kernelspec": {
      "name": "python3",
      "display_name": "Python 3"
    },
    "language_info": {
      "name": "python"
    }
  },
  "cells": [
    {
      "cell_type": "markdown",
      "metadata": {
        "id": "l9esICHCpB0V"
      },
      "source": [
        "### **Dummy Linear Regression made by hand** \n",
        "using pytorch libraries\n",
        "\n",
        "\n"
      ]
    },
    {
      "cell_type": "code",
      "metadata": {
        "id": "m5l6Qkch8u3J"
      },
      "source": [
        "import torch\n",
        "import torch.nn as nn\n",
        "import matplotlib.pyplot as plt\n",
        "import numpy as np"
      ],
      "execution_count": 1,
      "outputs": []
    },
    {
      "cell_type": "code",
      "metadata": {
        "colab": {
          "base_uri": "https://localhost:8080/",
          "height": 296
        },
        "id": "yAsbpDEDZpi4",
        "outputId": "bc0cc322-e831-4e34-fba3-ad39f9e30373"
      },
      "source": [
        "\n",
        "X = torch.randn(100, 1)*10\n",
        "y = X + 3*torch.randn(100, 1)\n",
        "plt.plot(X.numpy(), y.numpy(), 'o')\n",
        "plt.ylabel('y')\n",
        "plt.xlabel('x')\n"
      ],
      "execution_count": 2,
      "outputs": [
        {
          "output_type": "execute_result",
          "data": {
            "text/plain": [
              "Text(0.5, 0, 'x')"
            ]
          },
          "metadata": {},
          "execution_count": 2
        },
        {
          "output_type": "display_data",
          "data": {
            "image/png": "[encoded data removed]",
            "text/plain": [
              "<Figure size 432x288 with 1 Axes>"
            ]
          },
          "metadata": {
            "needs_background": "light"
          }
        }
      ]
    },
    {
      "cell_type": "code",
      "metadata": {
        "id": "r83VAPp5Pw79"
      },
      "source": [
        "class LR(nn.Module):\n",
        "  def __init__(self, input_size, output_size):\n",
        "    super().__init__()\n",
        "    self.linear = nn.Linear(input_size, output_size)\n",
        "  def forward(self, x):\n",
        "    pred = self.linear(x)\n",
        "    return pred"
      ],
      "execution_count": 3,
      "outputs": []
    },
    {
      "cell_type": "code",
      "metadata": {
        "colab": {
          "base_uri": "https://localhost:8080/"
        },
        "id": "kOwb8t0gWd0j",
        "outputId": "be292c46-30d5-49e9-ef65-9bd9b1d1eaf7"
      },
      "source": [
        "\n",
        "torch.manual_seed(1)\n",
        "model = LR(1, 1)\n",
        "print(model)"
      ],
      "execution_count": 4,
      "outputs": [
        {
          "output_type": "stream",
          "name": "stdout",
          "text": [
            "LR(\n",
            "  (linear): Linear(in_features=1, out_features=1, bias=True)\n",
            ")\n"
          ]
        }
      ]
    },
    {
      "cell_type": "code",
      "metadata": {
        "id": "g7-LCbw7bU75"
      },
      "source": [
        "[w, b] = model.parameters()\n",
        "def get_params():\n",
        "  return (w[0][0].item(), b[0].item())\n"
      ],
      "execution_count": 5,
      "outputs": []
    },
    {
      "cell_type": "code",
      "metadata": {
        "id": "Zx2SndBHc5ed"
      },
      "source": [
        "def plot_fit(title):\n",
        "  plt.title = title\n",
        "  w1, b1 = get_params()\n",
        "  x1 = np.array([-30, 30])\n",
        "  y1 = w1*x1 + b1\n",
        "  plt.plot(x1, y1, 'r')\n",
        "  plt.scatter(X, y)\n",
        "  plt.show()"
      ],
      "execution_count": 6,
      "outputs": []
    },
    {
      "cell_type": "code",
      "metadata": {
        "colab": {
          "base_uri": "https://localhost:8080/",
          "height": 265
        },
        "id": "FHdqssO_d7Pb",
        "outputId": "d34b6eea-525e-43fa-c2bc-63fa502343c1"
      },
      "source": [
        "plot_fit('Initial Model')"
      ],
      "execution_count": 7,
      "outputs": [
        {
          "output_type": "display_data",
          "data": {
            "image/png": "[encoded data removed]",
            "text/plain": [
              "<Figure size 432x288 with 1 Axes>"
            ]
          },
          "metadata": {
            "needs_background": "light"
          }
        }
      ]
    },
    {
      "cell_type": "code",
      "metadata": {
        "id": "LSJd7Q4ljYez"
      },
      "source": [
        "\n",
        "criterion = nn.MSELoss()\n",
        "optimizer = torch.optim.SGD(model.parameters(), lr = 0.01)\n"
      ],
      "execution_count": 8,
      "outputs": []
    },
    {
      "cell_type": "code",
      "metadata": {
        "colab": {
          "base_uri": "https://localhost:8080/"
        },
        "id": "0Yotup2wkSF7",
        "outputId": "64c87f5f-324c-4d76-e762-eac5b35861ab"
      },
      "source": [
        "epochs = 100\n",
        "losses = []\n",
        "for i in range(epochs):\n",
        "  y_pred = model.forward(X)\n",
        "  loss = criterion(y_pred, y)\n",
        "  print(\"epoch:\", i, \"loss:\", loss.item())\n",
        "  \n",
        "  losses.append(loss)\n",
        "  optimizer.zero_grad()\n",
        "  loss.backward()\n",
        "  optimizer.step()"
      ],
      "execution_count": 9,
      "outputs": [
        {
          "output_type": "stream",
          "name": "stdout",
          "text": [
            "epoch: 0 loss: 24.908376693725586\n",
            "epoch: 1 loss: 16.889249801635742\n",
            "epoch: 2 loss: 12.387520790100098\n",
            "epoch: 3 loss: 9.859166145324707\n",
            "epoch: 4 loss: 8.437989234924316\n",
            "epoch: 5 loss: 7.638042449951172\n",
            "epoch: 6 loss: 7.186708927154541\n",
            "epoch: 7 loss: 6.931046009063721\n",
            "epoch: 8 loss: 6.785244941711426\n",
            "epoch: 9 loss: 6.701168060302734\n",
            "epoch: 10 loss: 6.651806831359863\n",
            "epoch: 11 loss: 6.622005462646484\n",
            "epoch: 12 loss: 6.6032562255859375\n",
            "epoch: 13 loss: 6.590785503387451\n",
            "epoch: 14 loss: 6.581911563873291\n",
            "epoch: 15 loss: 6.575127124786377\n",
            "epoch: 16 loss: 6.569583892822266\n",
            "epoch: 17 loss: 6.564803600311279\n",
            "epoch: 18 loss: 6.5605149269104\n",
            "epoch: 19 loss: 6.5565643310546875\n",
            "epoch: 20 loss: 6.552860260009766\n",
            "epoch: 21 loss: 6.549352645874023\n",
            "epoch: 22 loss: 6.546009540557861\n",
            "epoch: 23 loss: 6.542812347412109\n",
            "epoch: 24 loss: 6.5397467613220215\n",
            "epoch: 25 loss: 6.536802768707275\n",
            "epoch: 26 loss: 6.533975601196289\n",
            "epoch: 27 loss: 6.531257152557373\n",
            "epoch: 28 loss: 6.528643608093262\n",
            "epoch: 29 loss: 6.526131629943848\n",
            "epoch: 30 loss: 6.523715019226074\n",
            "epoch: 31 loss: 6.521390914916992\n",
            "epoch: 32 loss: 6.519155502319336\n",
            "epoch: 33 loss: 6.5170063972473145\n",
            "epoch: 34 loss: 6.514937877655029\n",
            "epoch: 35 loss: 6.512950420379639\n",
            "epoch: 36 loss: 6.5110368728637695\n",
            "epoch: 37 loss: 6.5091986656188965\n",
            "epoch: 38 loss: 6.5074286460876465\n",
            "epoch: 39 loss: 6.5057268142700195\n",
            "epoch: 40 loss: 6.504090785980225\n",
            "epoch: 41 loss: 6.502517223358154\n",
            "epoch: 42 loss: 6.501002788543701\n",
            "epoch: 43 loss: 6.499546527862549\n",
            "epoch: 44 loss: 6.4981465339660645\n",
            "epoch: 45 loss: 6.496799945831299\n",
            "epoch: 46 loss: 6.495504379272461\n",
            "epoch: 47 loss: 6.494257926940918\n",
            "epoch: 48 loss: 6.4930596351623535\n",
            "epoch: 49 loss: 6.491906642913818\n",
            "epoch: 50 loss: 6.490798473358154\n",
            "epoch: 51 loss: 6.489732265472412\n",
            "epoch: 52 loss: 6.488706111907959\n",
            "epoch: 53 loss: 6.487720966339111\n",
            "epoch: 54 loss: 6.486772537231445\n",
            "epoch: 55 loss: 6.485859394073486\n",
            "epoch: 56 loss: 6.484982490539551\n",
            "epoch: 57 loss: 6.4841389656066895\n",
            "epoch: 58 loss: 6.483326435089111\n",
            "epoch: 59 loss: 6.482546329498291\n",
            "epoch: 60 loss: 6.481794357299805\n",
            "epoch: 61 loss: 6.481071949005127\n",
            "epoch: 62 loss: 6.480379104614258\n",
            "epoch: 63 loss: 6.479710578918457\n",
            "epoch: 64 loss: 6.479068756103516\n",
            "epoch: 65 loss: 6.478450775146484\n",
            "epoch: 66 loss: 6.477855205535889\n",
            "epoch: 67 loss: 6.477283954620361\n",
            "epoch: 68 loss: 6.476734638214111\n",
            "epoch: 69 loss: 6.476205825805664\n",
            "epoch: 70 loss: 6.475697040557861\n",
            "epoch: 71 loss: 6.475208282470703\n",
            "epoch: 72 loss: 6.474737167358398\n",
            "epoch: 73 loss: 6.474285125732422\n",
            "epoch: 74 loss: 6.473850250244141\n",
            "epoch: 75 loss: 6.473431587219238\n",
            "epoch: 76 loss: 6.473029613494873\n",
            "epoch: 77 loss: 6.472641468048096\n",
            "epoch: 78 loss: 6.472268104553223\n",
            "epoch: 79 loss: 6.471911430358887\n",
            "epoch: 80 loss: 6.471566200256348\n",
            "epoch: 81 loss: 6.471235275268555\n",
            "epoch: 82 loss: 6.470916271209717\n",
            "epoch: 83 loss: 6.47061014175415\n",
            "epoch: 84 loss: 6.470315456390381\n",
            "epoch: 85 loss: 6.47003173828125\n",
            "epoch: 86 loss: 6.4697585105896\n",
            "epoch: 87 loss: 6.46949577331543\n",
            "epoch: 88 loss: 6.469245433807373\n",
            "epoch: 89 loss: 6.469001293182373\n",
            "epoch: 90 loss: 6.468769550323486\n",
            "epoch: 91 loss: 6.468544960021973\n",
            "epoch: 92 loss: 6.468327522277832\n",
            "epoch: 93 loss: 6.468120574951172\n",
            "epoch: 94 loss: 6.467921257019043\n",
            "epoch: 95 loss: 6.467729568481445\n",
            "epoch: 96 loss: 6.467544078826904\n",
            "epoch: 97 loss: 6.4673662185668945\n",
            "epoch: 98 loss: 6.467195987701416\n",
            "epoch: 99 loss: 6.467031478881836\n"
          ]
        }
      ]
    },
    {
      "cell_type": "code",
      "metadata": {
        "colab": {
          "base_uri": "https://localhost:8080/",
          "height": 296
        },
        "id": "mqE2sKARjgfc",
        "outputId": "ee118604-4652-4d5e-d424-5f905dd7497d"
      },
      "source": [
        "plt.plot(range(epochs), losses)\n",
        "plt.xlabel('Loss')\n",
        "plt.ylabel('epochs')"
      ],
      "execution_count": 11,
      "outputs": [
        {
          "output_type": "execute_result",
          "data": {
            "text/plain": [
              "Text(0, 0.5, 'epochs')"
            ]
          },
          "metadata": {},
          "execution_count": 11
        },
        {
          "output_type": "display_data",
          "data": {
            "image/png": "[encoded data removed]",
            "text/plain": [
              "<Figure size 432x288 with 1 Axes>"
            ]
          },
          "metadata": {
            "needs_background": "light"
          }
        }
      ]
    },
    {
      "cell_type": "code",
      "metadata": {
        "colab": {
          "base_uri": "https://localhost:8080/",
          "height": 265
        },
        "id": "Mk6AJTijo0wj",
        "outputId": "dde46560-ae1d-4cf0-f7f2-aa42a1b5aba9"
      },
      "source": [
        "plot_fit(\"Trained Model\")"
      ],
      "execution_count": 12,
      "outputs": [
        {
          "output_type": "display_data",
          "data": {
            "image/png": "[encoded data removed]",
            "text/plain": [
              "<Figure size 432x288 with 1 Axes>"
            ]
          },
          "metadata": {
            "needs_background": "light"
          }
        }
      ]
    }
  ]
}